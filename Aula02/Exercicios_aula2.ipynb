{
 "cells": [
  {
   "attachments": {},
   "cell_type": "markdown",
   "id": "dc0bf912-789c-4279-a2f7-9928254a8208",
   "metadata": {},
   "source": [
    "# Regression Trees"
   ]
  },
  {
   "cell_type": "code",
   "execution_count": 97,
   "id": "35d2ceb0-431e-4f98-8420-5a71ce8a7537",
   "metadata": {},
   "outputs": [],
   "source": [
    "import numpy as np\n",
    "import pandas as pd\n",
    "import matplotlib.pyplot as plt\n",
    "from sklearn.tree import DecisionTreeRegressor"
   ]
  },
  {
   "cell_type": "code",
   "execution_count": 98,
   "id": "08a0ffaf-43e9-4fa1-8e87-6e19e8df3816",
   "metadata": {},
   "outputs": [
    {
     "data": {
      "text/html": [
       "<div>\n",
       "<style scoped>\n",
       "    .dataframe tbody tr th:only-of-type {\n",
       "        vertical-align: middle;\n",
       "    }\n",
       "\n",
       "    .dataframe tbody tr th {\n",
       "        vertical-align: top;\n",
       "    }\n",
       "\n",
       "    .dataframe thead th {\n",
       "        text-align: right;\n",
       "    }\n",
       "</style>\n",
       "<table border=\"1\" class=\"dataframe\">\n",
       "  <thead>\n",
       "    <tr style=\"text-align: right;\">\n",
       "      <th></th>\n",
       "      <th>R&amp;D Spend</th>\n",
       "      <th>Administration</th>\n",
       "      <th>Marketing Spend</th>\n",
       "      <th>State</th>\n",
       "      <th>Profit</th>\n",
       "    </tr>\n",
       "  </thead>\n",
       "  <tbody>\n",
       "    <tr>\n",
       "      <th>0</th>\n",
       "      <td>165349.20</td>\n",
       "      <td>136897.80</td>\n",
       "      <td>471784.10</td>\n",
       "      <td>New York</td>\n",
       "      <td>192261.83</td>\n",
       "    </tr>\n",
       "    <tr>\n",
       "      <th>1</th>\n",
       "      <td>162597.70</td>\n",
       "      <td>151377.59</td>\n",
       "      <td>443898.53</td>\n",
       "      <td>California</td>\n",
       "      <td>191792.06</td>\n",
       "    </tr>\n",
       "    <tr>\n",
       "      <th>2</th>\n",
       "      <td>153441.51</td>\n",
       "      <td>101145.55</td>\n",
       "      <td>407934.54</td>\n",
       "      <td>Florida</td>\n",
       "      <td>191050.39</td>\n",
       "    </tr>\n",
       "    <tr>\n",
       "      <th>3</th>\n",
       "      <td>144372.41</td>\n",
       "      <td>118671.85</td>\n",
       "      <td>383199.62</td>\n",
       "      <td>New York</td>\n",
       "      <td>182901.99</td>\n",
       "    </tr>\n",
       "    <tr>\n",
       "      <th>4</th>\n",
       "      <td>142107.34</td>\n",
       "      <td>91391.77</td>\n",
       "      <td>366168.42</td>\n",
       "      <td>Florida</td>\n",
       "      <td>166187.94</td>\n",
       "    </tr>\n",
       "  </tbody>\n",
       "</table>\n",
       "</div>"
      ],
      "text/plain": [
       "   R&D Spend  Administration  Marketing Spend       State     Profit\n",
       "0  165349.20       136897.80        471784.10    New York  192261.83\n",
       "1  162597.70       151377.59        443898.53  California  191792.06\n",
       "2  153441.51       101145.55        407934.54     Florida  191050.39\n",
       "3  144372.41       118671.85        383199.62    New York  182901.99\n",
       "4  142107.34        91391.77        366168.42     Florida  166187.94"
      ]
     },
     "execution_count": 98,
     "metadata": {},
     "output_type": "execute_result"
    }
   ],
   "source": [
    "dataset = pd.read_csv('../bases/50_Startups.csv')\n",
    "dataset.head()"
   ]
  },
  {
   "attachments": {},
   "cell_type": "markdown",
   "id": "a74ceea4-21e0-46a0-b474-50360bb42ed3",
   "metadata": {},
   "source": [
    "### TODO 1\n",
    "\n",
    "Remova as colunas Administration e State do dataset"
   ]
  },
  {
   "cell_type": "code",
   "execution_count": 99,
   "id": "987ce02e-bba7-4753-9e5c-84712b0a5299",
   "metadata": {
    "tags": []
   },
   "outputs": [],
   "source": [
    "#resposta\n",
    "dataset.drop(['Administration','State'],axis=1,inplace=True)"
   ]
  },
  {
   "attachments": {},
   "cell_type": "markdown",
   "id": "bc99a3a5-94ba-4608-a086-e87c9ff0bfdc",
   "metadata": {},
   "source": [
    "### TODO 2\n",
    "Separe o dataset em vetor de características e variável meta"
   ]
  },
  {
   "cell_type": "code",
   "execution_count": 100,
   "id": "6f890b50-345e-410a-abbc-bc04c52a3620",
   "metadata": {
    "tags": []
   },
   "outputs": [],
   "source": [
    "#resposta\n",
    "X = dataset.drop('Profit',axis=1) # petal length and width\n",
    "y = dataset.Profit"
   ]
  },
  {
   "attachments": {},
   "cell_type": "markdown",
   "id": "ae42eb97-7449-4021-beb1-fadea5456c62",
   "metadata": {},
   "source": [
    "### TODO 3\n",
    "Treine um modelo de regressão usando Regression Tree"
   ]
  },
  {
   "cell_type": "code",
   "execution_count": 101,
   "id": "11e60604-8068-4f05-8963-a08ebefffde9",
   "metadata": {
    "tags": []
   },
   "outputs": [
    {
     "data": {
      "text/html": [
       "<style>#sk-container-id-8 {color: black;background-color: white;}#sk-container-id-8 pre{padding: 0;}#sk-container-id-8 div.sk-toggleable {background-color: white;}#sk-container-id-8 label.sk-toggleable__label {cursor: pointer;display: block;width: 100%;margin-bottom: 0;padding: 0.3em;box-sizing: border-box;text-align: center;}#sk-container-id-8 label.sk-toggleable__label-arrow:before {content: \"▸\";float: left;margin-right: 0.25em;color: #696969;}#sk-container-id-8 label.sk-toggleable__label-arrow:hover:before {color: black;}#sk-container-id-8 div.sk-estimator:hover label.sk-toggleable__label-arrow:before {color: black;}#sk-container-id-8 div.sk-toggleable__content {max-height: 0;max-width: 0;overflow: hidden;text-align: left;background-color: #f0f8ff;}#sk-container-id-8 div.sk-toggleable__content pre {margin: 0.2em;color: black;border-radius: 0.25em;background-color: #f0f8ff;}#sk-container-id-8 input.sk-toggleable__control:checked~div.sk-toggleable__content {max-height: 200px;max-width: 100%;overflow: auto;}#sk-container-id-8 input.sk-toggleable__control:checked~label.sk-toggleable__label-arrow:before {content: \"▾\";}#sk-container-id-8 div.sk-estimator input.sk-toggleable__control:checked~label.sk-toggleable__label {background-color: #d4ebff;}#sk-container-id-8 div.sk-label input.sk-toggleable__control:checked~label.sk-toggleable__label {background-color: #d4ebff;}#sk-container-id-8 input.sk-hidden--visually {border: 0;clip: rect(1px 1px 1px 1px);clip: rect(1px, 1px, 1px, 1px);height: 1px;margin: -1px;overflow: hidden;padding: 0;position: absolute;width: 1px;}#sk-container-id-8 div.sk-estimator {font-family: monospace;background-color: #f0f8ff;border: 1px dotted black;border-radius: 0.25em;box-sizing: border-box;margin-bottom: 0.5em;}#sk-container-id-8 div.sk-estimator:hover {background-color: #d4ebff;}#sk-container-id-8 div.sk-parallel-item::after {content: \"\";width: 100%;border-bottom: 1px solid gray;flex-grow: 1;}#sk-container-id-8 div.sk-label:hover label.sk-toggleable__label {background-color: #d4ebff;}#sk-container-id-8 div.sk-serial::before {content: \"\";position: absolute;border-left: 1px solid gray;box-sizing: border-box;top: 0;bottom: 0;left: 50%;z-index: 0;}#sk-container-id-8 div.sk-serial {display: flex;flex-direction: column;align-items: center;background-color: white;padding-right: 0.2em;padding-left: 0.2em;position: relative;}#sk-container-id-8 div.sk-item {position: relative;z-index: 1;}#sk-container-id-8 div.sk-parallel {display: flex;align-items: stretch;justify-content: center;background-color: white;position: relative;}#sk-container-id-8 div.sk-item::before, #sk-container-id-8 div.sk-parallel-item::before {content: \"\";position: absolute;border-left: 1px solid gray;box-sizing: border-box;top: 0;bottom: 0;left: 50%;z-index: -1;}#sk-container-id-8 div.sk-parallel-item {display: flex;flex-direction: column;z-index: 1;position: relative;background-color: white;}#sk-container-id-8 div.sk-parallel-item:first-child::after {align-self: flex-end;width: 50%;}#sk-container-id-8 div.sk-parallel-item:last-child::after {align-self: flex-start;width: 50%;}#sk-container-id-8 div.sk-parallel-item:only-child::after {width: 0;}#sk-container-id-8 div.sk-dashed-wrapped {border: 1px dashed gray;margin: 0 0.4em 0.5em 0.4em;box-sizing: border-box;padding-bottom: 0.4em;background-color: white;}#sk-container-id-8 div.sk-label label {font-family: monospace;font-weight: bold;display: inline-block;line-height: 1.2em;}#sk-container-id-8 div.sk-label-container {text-align: center;}#sk-container-id-8 div.sk-container {/* jupyter's `normalize.less` sets `[hidden] { display: none; }` but bootstrap.min.css set `[hidden] { display: none !important; }` so we also need the `!important` here to be able to override the default hidden behavior on the sphinx rendered scikit-learn.org. See: https://github.com/scikit-learn/scikit-learn/issues/21755 */display: inline-block !important;position: relative;}#sk-container-id-8 div.sk-text-repr-fallback {display: none;}</style><div id=\"sk-container-id-8\" class=\"sk-top-container\"><div class=\"sk-text-repr-fallback\"><pre>DecisionTreeRegressor()</pre><b>In a Jupyter environment, please rerun this cell to show the HTML representation or trust the notebook. <br />On GitHub, the HTML representation is unable to render, please try loading this page with nbviewer.org.</b></div><div class=\"sk-container\" hidden><div class=\"sk-item\"><div class=\"sk-estimator sk-toggleable\"><input class=\"sk-toggleable__control sk-hidden--visually\" id=\"sk-estimator-id-8\" type=\"checkbox\" checked><label for=\"sk-estimator-id-8\" class=\"sk-toggleable__label sk-toggleable__label-arrow\">DecisionTreeRegressor</label><div class=\"sk-toggleable__content\"><pre>DecisionTreeRegressor()</pre></div></div></div></div></div>"
      ],
      "text/plain": [
       "DecisionTreeRegressor()"
      ]
     },
     "execution_count": 101,
     "metadata": {},
     "output_type": "execute_result"
    }
   ],
   "source": [
    "#resposta\n",
    "# reg = DecisionTreeRegressor(max_depth=2, min_samples_split=3)\n",
    "reg = DecisionTreeRegressor()\n",
    "reg.fit(X,y)"
   ]
  },
  {
   "cell_type": "code",
   "execution_count": 102,
   "id": "4b56e2a4",
   "metadata": {},
   "outputs": [
    {
     "name": "stdout",
     "output_type": "stream",
     "text": [
      "|--- feature_0 <= 77528.56\n",
      "|   |--- feature_0 <= 25766.92\n",
      "|   |   |--- feature_0 <= 771.14\n",
      "|   |   |   |--- feature_1 <= 22586.53\n",
      "|   |   |   |   |--- feature_0 <= 271.02\n",
      "|   |   |   |   |   |--- value: [42559.73]\n",
      "|   |   |   |   |--- feature_0 >  271.02\n",
      "|   |   |   |   |   |--- value: [35673.41]\n",
      "|   |   |   |--- feature_1 >  22586.53\n",
      "|   |   |   |   |--- value: [14681.40]\n",
      "|   |   |--- feature_0 >  771.14\n",
      "|   |   |   |--- feature_1 <= 241189.78\n",
      "|   |   |   |   |--- feature_1 <= 166633.10\n",
      "|   |   |   |   |   |--- feature_1 <= 31934.45\n",
      "|   |   |   |   |   |   |--- feature_1 <= 15119.33\n",
      "|   |   |   |   |   |   |   |--- value: [64926.08]\n",
      "|   |   |   |   |   |   |--- feature_1 >  15119.33\n",
      "|   |   |   |   |   |   |   |--- value: [65200.33]\n",
      "|   |   |   |   |   |--- feature_1 >  31934.45\n",
      "|   |   |   |   |   |   |--- feature_1 <= 91767.64\n",
      "|   |   |   |   |   |   |   |--- value: [69758.98]\n",
      "|   |   |   |   |   |   |--- feature_1 >  91767.64\n",
      "|   |   |   |   |   |   |   |--- value: [71498.49]\n",
      "|   |   |   |   |--- feature_1 >  166633.10\n",
      "|   |   |   |   |   |--- value: [81229.06]\n",
      "|   |   |   |--- feature_1 >  241189.78\n",
      "|   |   |   |   |--- value: [49490.75]\n",
      "|   |--- feature_0 >  25766.92\n",
      "|   |   |--- feature_0 <= 45041.98\n",
      "|   |   |   |--- feature_1 <= 186014.36\n",
      "|   |   |   |   |--- feature_1 <= 173897.48\n",
      "|   |   |   |   |   |--- feature_0 <= 28323.62\n",
      "|   |   |   |   |   |   |--- value: [77798.83]\n",
      "|   |   |   |   |   |--- feature_0 >  28323.62\n",
      "|   |   |   |   |   |   |--- value: [78239.91]\n",
      "|   |   |   |   |--- feature_1 >  173897.48\n",
      "|   |   |   |   |   |--- value: [81005.76]\n",
      "|   |   |   |--- feature_1 >  186014.36\n",
      "|   |   |   |   |--- feature_1 <= 199078.12\n",
      "|   |   |   |   |   |--- value: [89949.14]\n",
      "|   |   |   |   |--- feature_1 >  199078.12\n",
      "|   |   |   |   |   |--- value: [90708.19]\n",
      "|   |   |--- feature_0 >  45041.98\n",
      "|   |   |   |--- feature_0 <= 64036.79\n",
      "|   |   |   |   |--- feature_0 <= 61565.43\n",
      "|   |   |   |   |   |--- feature_0 <= 58315.16\n",
      "|   |   |   |   |   |   |--- feature_1 <= 208157.66\n",
      "|   |   |   |   |   |   |   |--- value: [96479.51]\n",
      "|   |   |   |   |   |   |--- feature_1 >  208157.66\n",
      "|   |   |   |   |   |   |   |--- feature_0 <= 50960.01\n",
      "|   |   |   |   |   |   |   |   |--- value: [96712.80]\n",
      "|   |   |   |   |   |   |   |--- feature_0 >  50960.01\n",
      "|   |   |   |   |   |   |   |   |--- value: [96778.92]\n",
      "|   |   |   |   |   |--- feature_0 >  58315.16\n",
      "|   |   |   |   |   |   |--- value: [97483.56]\n",
      "|   |   |   |   |--- feature_0 >  61565.43\n",
      "|   |   |   |   |   |--- feature_1 <= 68608.25\n",
      "|   |   |   |   |   |   |--- value: [97427.84]\n",
      "|   |   |   |   |   |--- feature_1 >  68608.25\n",
      "|   |   |   |   |   |   |--- value: [99937.59]\n",
      "|   |   |   |--- feature_0 >  64036.79\n",
      "|   |   |   |   |--- feature_0 <= 75791.36\n",
      "|   |   |   |   |   |--- feature_1 <= 126099.13\n",
      "|   |   |   |   |   |   |--- feature_1 <= 112643.29\n",
      "|   |   |   |   |   |   |   |--- value: [101004.64]\n",
      "|   |   |   |   |   |   |--- feature_1 >  112643.29\n",
      "|   |   |   |   |   |   |   |--- value: [103282.38]\n",
      "|   |   |   |   |   |--- feature_1 >  126099.13\n",
      "|   |   |   |   |   |   |--- feature_1 <= 328976.27\n",
      "|   |   |   |   |   |   |   |--- feature_1 <= 220640.94\n",
      "|   |   |   |   |   |   |   |   |--- feature_0 <= 69996.79\n",
      "|   |   |   |   |   |   |   |   |   |--- value: [107404.34]\n",
      "|   |   |   |   |   |   |   |   |--- feature_0 >  69996.79\n",
      "|   |   |   |   |   |   |   |   |   |--- value: [105733.54]\n",
      "|   |   |   |   |   |   |   |--- feature_1 >  220640.94\n",
      "|   |   |   |   |   |   |   |   |--- feature_0 <= 70763.55\n",
      "|   |   |   |   |   |   |   |   |   |--- value: [108733.99]\n",
      "|   |   |   |   |   |   |   |   |--- feature_0 >  70763.55\n",
      "|   |   |   |   |   |   |   |   |   |--- value: [110352.25]\n",
      "|   |   |   |   |   |   |--- feature_1 >  328976.27\n",
      "|   |   |   |   |   |   |   |--- value: [105008.31]\n",
      "|   |   |   |   |--- feature_0 >  75791.36\n",
      "|   |   |   |   |   |--- feature_0 <= 76648.93\n",
      "|   |   |   |   |   |   |--- value: [118474.03]\n",
      "|   |   |   |   |   |--- feature_0 >  76648.93\n",
      "|   |   |   |   |   |   |--- value: [108552.04]\n",
      "|--- feature_0 >  77528.56\n",
      "|   |--- feature_0 <= 138361.40\n",
      "|   |   |--- feature_0 <= 120242.88\n",
      "|   |   |   |--- feature_0 <= 91870.77\n",
      "|   |   |   |   |--- feature_1 <= 297328.42\n",
      "|   |   |   |   |   |--- feature_0 <= 82216.41\n",
      "|   |   |   |   |   |   |--- value: [126992.93]\n",
      "|   |   |   |   |   |--- feature_0 >  82216.41\n",
      "|   |   |   |   |   |   |--- feature_1 <= 147459.78\n",
      "|   |   |   |   |   |   |   |--- value: [122776.86]\n",
      "|   |   |   |   |   |   |--- feature_1 >  147459.78\n",
      "|   |   |   |   |   |   |   |--- value: [124266.90]\n",
      "|   |   |   |   |--- feature_1 >  297328.42\n",
      "|   |   |   |   |   |--- value: [111313.02]\n",
      "|   |   |   |--- feature_0 >  91870.77\n",
      "|   |   |   |   |--- feature_1 <= 251252.19\n",
      "|   |   |   |   |   |--- feature_1 <= 249791.99\n",
      "|   |   |   |   |   |   |--- feature_1 <= 239452.75\n",
      "|   |   |   |   |   |   |   |--- value: [146121.95]\n",
      "|   |   |   |   |   |   |--- feature_1 >  239452.75\n",
      "|   |   |   |   |   |   |   |--- value: [144259.40]\n",
      "|   |   |   |   |   |--- feature_1 >  249791.99\n",
      "|   |   |   |   |   |   |--- value: [141585.52]\n",
      "|   |   |   |   |--- feature_1 >  251252.19\n",
      "|   |   |   |   |   |--- feature_1 <= 272175.27\n",
      "|   |   |   |   |   |   |--- feature_1 <= 259144.58\n",
      "|   |   |   |   |   |   |   |--- feature_0 <= 105967.82\n",
      "|   |   |   |   |   |   |   |   |--- value: [134307.35]\n",
      "|   |   |   |   |   |   |   |--- feature_0 >  105967.82\n",
      "|   |   |   |   |   |   |   |   |--- value: [132602.65]\n",
      "|   |   |   |   |   |   |--- feature_1 >  259144.58\n",
      "|   |   |   |   |   |   |   |--- value: [129917.04]\n",
      "|   |   |   |   |   |--- feature_1 >  272175.27\n",
      "|   |   |   |   |   |   |--- value: [125370.37]\n",
      "|   |   |--- feature_0 >  120242.88\n",
      "|   |   |   |--- feature_0 <= 126816.51\n",
      "|   |   |   |   |--- feature_0 <= 121938.70\n",
      "|   |   |   |   |   |--- value: [152211.77]\n",
      "|   |   |   |   |--- feature_0 >  121938.70\n",
      "|   |   |   |   |   |--- value: [149759.96]\n",
      "|   |   |   |--- feature_0 >  126816.51\n",
      "|   |   |   |   |--- feature_1 <= 343369.03\n",
      "|   |   |   |   |   |--- feature_1 <= 225796.75\n",
      "|   |   |   |   |   |   |--- value: [156122.51]\n",
      "|   |   |   |   |   |--- feature_1 >  225796.75\n",
      "|   |   |   |   |   |   |--- value: [155752.60]\n",
      "|   |   |   |   |--- feature_1 >  343369.03\n",
      "|   |   |   |   |   |--- value: [156991.12]\n",
      "|   |--- feature_0 >  138361.40\n",
      "|   |   |--- feature_1 <= 374684.02\n",
      "|   |   |   |--- value: [166187.94]\n",
      "|   |   |--- feature_1 >  374684.02\n",
      "|   |   |   |--- feature_1 <= 395567.08\n",
      "|   |   |   |   |--- value: [182901.99]\n",
      "|   |   |   |--- feature_1 >  395567.08\n",
      "|   |   |   |   |--- feature_1 <= 425916.53\n",
      "|   |   |   |   |   |--- value: [191050.39]\n",
      "|   |   |   |   |--- feature_1 >  425916.53\n",
      "|   |   |   |   |   |--- feature_1 <= 457841.31\n",
      "|   |   |   |   |   |   |--- value: [191792.06]\n",
      "|   |   |   |   |   |--- feature_1 >  457841.31\n",
      "|   |   |   |   |   |   |--- value: [192261.83]\n",
      "\n"
     ]
    }
   ],
   "source": [
    "from sklearn import tree\n",
    "print(tree.export_text(reg))"
   ]
  },
  {
   "attachments": {},
   "cell_type": "markdown",
   "id": "39ab4360-8c19-4fac-9f89-a602e677a3d0",
   "metadata": {},
   "source": [
    "### TODO 4\n",
    "Suponha que a empresa tenha um orçamento de R$ 500.000,00.\n",
    "\n",
    "Eles estão considerando três opções:\n",
    "\n",
    "> R&D: 300.000,00 ; Marketing: 200.000,00\n",
    "\n",
    "> R&D: 200.000,00 ; Marketing: 300.000,00\n",
    "\n",
    "> R&D: 100.000,00 ; Marketing: 400.000,00\n",
    "\n",
    "Qual opção irá, a partir do modelo treinado, retornar o maior lucro?"
   ]
  },
  {
   "cell_type": "code",
   "execution_count": 103,
   "id": "2a25251e-c1cc-46c3-894a-d2ef03b9a9ee",
   "metadata": {
    "tags": []
   },
   "outputs": [
    {
     "name": "stdout",
     "output_type": "stream",
     "text": [
      "[166187.94]\n",
      "[166187.94]\n",
      "[125370.37]\n"
     ]
    },
    {
     "name": "stderr",
     "output_type": "stream",
     "text": [
      "C:\\Users\\logonrmlocal\\AppData\\Roaming\\Python\\Python38\\site-packages\\sklearn\\base.py:439: UserWarning: X does not have valid feature names, but DecisionTreeRegressor was fitted with feature names\n",
      "  warnings.warn(\n",
      "C:\\Users\\logonrmlocal\\AppData\\Roaming\\Python\\Python38\\site-packages\\sklearn\\base.py:439: UserWarning: X does not have valid feature names, but DecisionTreeRegressor was fitted with feature names\n",
      "  warnings.warn(\n",
      "C:\\Users\\logonrmlocal\\AppData\\Roaming\\Python\\Python38\\site-packages\\sklearn\\base.py:439: UserWarning: X does not have valid feature names, but DecisionTreeRegressor was fitted with feature names\n",
      "  warnings.warn(\n"
     ]
    }
   ],
   "source": [
    "# resposta\n",
    "print(reg.predict([['300000','200000']]))\n",
    "print(reg.predict([['200000','300000']]))\n",
    "print(reg.predict([['100000','400000']]))"
   ]
  },
  {
   "attachments": {},
   "cell_type": "markdown",
   "id": "a3f1b76a-7fbc-4e2c-bbe9-aea58cfac9c0",
   "metadata": {},
   "source": [
    "# Decision Trees"
   ]
  },
  {
   "cell_type": "code",
   "execution_count": 104,
   "id": "cross-application",
   "metadata": {},
   "outputs": [],
   "source": [
    "from sklearn import datasets\n",
    "from sklearn.model_selection import train_test_split\n",
    "from sklearn.tree import DecisionTreeClassifier\n",
    "from sklearn.metrics import confusion_matrix\n",
    "from sklearn import metrics"
   ]
  },
  {
   "cell_type": "code",
   "execution_count": 105,
   "id": "resident-killer",
   "metadata": {},
   "outputs": [
    {
     "data": {
      "text/plain": [
       "array(['mean radius', 'mean texture', 'mean perimeter', 'mean area',\n",
       "       'mean smoothness', 'mean compactness', 'mean concavity',\n",
       "       'mean concave points', 'mean symmetry', 'mean fractal dimension',\n",
       "       'radius error', 'texture error', 'perimeter error', 'area error',\n",
       "       'smoothness error', 'compactness error', 'concavity error',\n",
       "       'concave points error', 'symmetry error',\n",
       "       'fractal dimension error', 'worst radius', 'worst texture',\n",
       "       'worst perimeter', 'worst area', 'worst smoothness',\n",
       "       'worst compactness', 'worst concavity', 'worst concave points',\n",
       "       'worst symmetry', 'worst fractal dimension'], dtype='<U23')"
      ]
     },
     "execution_count": 105,
     "metadata": {},
     "output_type": "execute_result"
    }
   ],
   "source": [
    "#fazendo o download dos dados direto dos datasets presente na scikit-learn\n",
    "data = datasets.load_breast_cancer()\n",
    "data.feature_names"
   ]
  },
  {
   "cell_type": "code",
   "execution_count": 106,
   "id": "bizarre-india",
   "metadata": {},
   "outputs": [
    {
     "data": {
      "text/plain": [
       "array(['malignant', 'benign'], dtype='<U9')"
      ]
     },
     "execution_count": 106,
     "metadata": {},
     "output_type": "execute_result"
    }
   ],
   "source": [
    "#variável meta (target) -> aquilos que estamos tentando prever\n",
    "#no caso: cancer benigno ou maligno\n",
    "data.target_names"
   ]
  },
  {
   "cell_type": "code",
   "execution_count": 107,
   "id": "falling-insurance",
   "metadata": {},
   "outputs": [
    {
     "data": {
      "text/plain": [
       "(569, 30)"
      ]
     },
     "execution_count": 107,
     "metadata": {},
     "output_type": "execute_result"
    }
   ],
   "source": [
    "#linhas x colunas\n",
    "data.data.shape"
   ]
  },
  {
   "cell_type": "code",
   "execution_count": 108,
   "id": "respected-preference",
   "metadata": {},
   "outputs": [
    {
     "data": {
      "text/plain": [
       "array([[1.799e+01, 1.038e+01, 1.228e+02, 1.001e+03, 1.184e-01, 2.776e-01,\n",
       "        3.001e-01, 1.471e-01, 2.419e-01, 7.871e-02, 1.095e+00, 9.053e-01,\n",
       "        8.589e+00, 1.534e+02, 6.399e-03, 4.904e-02, 5.373e-02, 1.587e-02,\n",
       "        3.003e-02, 6.193e-03, 2.538e+01, 1.733e+01, 1.846e+02, 2.019e+03,\n",
       "        1.622e-01, 6.656e-01, 7.119e-01, 2.654e-01, 4.601e-01, 1.189e-01],\n",
       "       [2.057e+01, 1.777e+01, 1.329e+02, 1.326e+03, 8.474e-02, 7.864e-02,\n",
       "        8.690e-02, 7.017e-02, 1.812e-01, 5.667e-02, 5.435e-01, 7.339e-01,\n",
       "        3.398e+00, 7.408e+01, 5.225e-03, 1.308e-02, 1.860e-02, 1.340e-02,\n",
       "        1.389e-02, 3.532e-03, 2.499e+01, 2.341e+01, 1.588e+02, 1.956e+03,\n",
       "        1.238e-01, 1.866e-01, 2.416e-01, 1.860e-01, 2.750e-01, 8.902e-02],\n",
       "       [1.969e+01, 2.125e+01, 1.300e+02, 1.203e+03, 1.096e-01, 1.599e-01,\n",
       "        1.974e-01, 1.279e-01, 2.069e-01, 5.999e-02, 7.456e-01, 7.869e-01,\n",
       "        4.585e+00, 9.403e+01, 6.150e-03, 4.006e-02, 3.832e-02, 2.058e-02,\n",
       "        2.250e-02, 4.571e-03, 2.357e+01, 2.553e+01, 1.525e+02, 1.709e+03,\n",
       "        1.444e-01, 4.245e-01, 4.504e-01, 2.430e-01, 3.613e-01, 8.758e-02],\n",
       "       [1.142e+01, 2.038e+01, 7.758e+01, 3.861e+02, 1.425e-01, 2.839e-01,\n",
       "        2.414e-01, 1.052e-01, 2.597e-01, 9.744e-02, 4.956e-01, 1.156e+00,\n",
       "        3.445e+00, 2.723e+01, 9.110e-03, 7.458e-02, 5.661e-02, 1.867e-02,\n",
       "        5.963e-02, 9.208e-03, 1.491e+01, 2.650e+01, 9.887e+01, 5.677e+02,\n",
       "        2.098e-01, 8.663e-01, 6.869e-01, 2.575e-01, 6.638e-01, 1.730e-01],\n",
       "       [2.029e+01, 1.434e+01, 1.351e+02, 1.297e+03, 1.003e-01, 1.328e-01,\n",
       "        1.980e-01, 1.043e-01, 1.809e-01, 5.883e-02, 7.572e-01, 7.813e-01,\n",
       "        5.438e+00, 9.444e+01, 1.149e-02, 2.461e-02, 5.688e-02, 1.885e-02,\n",
       "        1.756e-02, 5.115e-03, 2.254e+01, 1.667e+01, 1.522e+02, 1.575e+03,\n",
       "        1.374e-01, 2.050e-01, 4.000e-01, 1.625e-01, 2.364e-01, 7.678e-02]])"
      ]
     },
     "execution_count": 108,
     "metadata": {},
     "output_type": "execute_result"
    }
   ],
   "source": [
    "#visualizando as 5 primeiras amostras\n",
    "data.data[0:5]"
   ]
  },
  {
   "attachments": {},
   "cell_type": "markdown",
   "id": "0b8e0244-1743-42ba-9129-b4838d4e0937",
   "metadata": {},
   "source": [
    "## TODO 1\n",
    "> Separe o dataset em conjunto de treino e teste, sendo 70% para treino e 30% para teste"
   ]
  },
  {
   "cell_type": "code",
   "execution_count": 109,
   "id": "rubber-manitoba",
   "metadata": {},
   "outputs": [],
   "source": [
    "#resposta\n",
    "\n",
    "df = pd.DataFrame(data.data, columns=data.feature_names)\n",
    "df['target'] = pd.Series(data.target)\n",
    "\n",
    "X = df.drop('target',axis=1)\n",
    "y = df.target\n",
    "\n",
    "#separando o arquivo em conjunto de treino e teste\n",
    "X_train, X_test, y_train, y_test = train_test_split(X, y, random_state=0)"
   ]
  },
  {
   "attachments": {},
   "cell_type": "markdown",
   "id": "09d9cfdf-548f-4a31-8c48-2187a7dcd7f8",
   "metadata": {},
   "source": [
    "## TODO 2\n",
    "> Treine uma Árvore de Decisão. Teste com diferentes valores de max_depth e compare os resultados"
   ]
  },
  {
   "cell_type": "code",
   "execution_count": 110,
   "id": "induced-sharp",
   "metadata": {},
   "outputs": [],
   "source": [
    "#resposta\n",
    "clfs = []\n",
    "for depth in range(1,10):\n",
    "    clf = DecisionTreeClassifier(max_depth=depth, random_state=42)\n",
    "    clf.fit(X_train, y_train)\n",
    "    clfs.append(clf)\n"
   ]
  },
  {
   "cell_type": "code",
   "execution_count": 111,
   "id": "5437f8fd",
   "metadata": {},
   "outputs": [
    {
     "data": {
      "text/plain": [
       "[0.9225352112676056,\n",
       " 0.9413145539906104,\n",
       " 0.9765258215962441,\n",
       " 0.9929577464788732,\n",
       " 0.9929577464788732,\n",
       " 0.9976525821596244,\n",
       " 0.9976525821596244,\n",
       " 1.0,\n",
       " 1.0]"
      ]
     },
     "execution_count": 111,
     "metadata": {},
     "output_type": "execute_result"
    }
   ],
   "source": [
    "#Obtendo os scores para cada valor de aplha\n",
    "train_scores = [clf.score(X_train, y_train) for clf in clfs]\n",
    "train_scores"
   ]
  },
  {
   "attachments": {},
   "cell_type": "markdown",
   "id": "cf989080-bc4a-44f6-8859-c7d6981b5b94",
   "metadata": {},
   "source": [
    "## TODO 3\n",
    "> Faça a predição para o conjunto de teste "
   ]
  },
  {
   "cell_type": "code",
   "execution_count": 112,
   "id": "valued-resident",
   "metadata": {},
   "outputs": [
    {
     "data": {
      "text/plain": [
       "[0.8811188811188811,\n",
       " 0.9370629370629371,\n",
       " 0.9370629370629371,\n",
       " 0.9230769230769231,\n",
       " 0.9300699300699301,\n",
       " 0.916083916083916,\n",
       " 0.9090909090909091,\n",
       " 0.916083916083916,\n",
       " 0.916083916083916]"
      ]
     },
     "execution_count": 112,
     "metadata": {},
     "output_type": "execute_result"
    }
   ],
   "source": [
    "#resposta\n",
    "test_scores = [clf.score(X_test, y_test) for clf in clfs]\n",
    "test_scores"
   ]
  },
  {
   "cell_type": "code",
   "execution_count": 113,
   "id": "dec1ab41",
   "metadata": {},
   "outputs": [
    {
     "data": {
      "image/png": "[encoded data removed]",
      "text/plain": [
       "<Figure size 640x480 with 1 Axes>"
      ]
     },
     "metadata": {},
     "output_type": "display_data"
    }
   ],
   "source": [
    "#plotando\n",
    "fig, ax = plt.subplots()\n",
    "ax.set_xlabel(\"alpha\")\n",
    "ax.set_ylabel(\"accuracy\")\n",
    "ax.set_title(\"Accuracy vs alpha for training and testing sets\")\n",
    "ax.plot(range(1,10), train_scores, marker=\"o\", label=\"train\", drawstyle=\"steps-post\")\n",
    "ax.plot(range(1,10), test_scores, marker=\"o\", label=\"test\", drawstyle=\"steps-post\")\n",
    "ax.legend()\n",
    "plt.show()"
   ]
  },
  {
   "attachments": {},
   "cell_type": "markdown",
   "id": "c1ee03f9-6591-4693-8963-be8b678c8e63",
   "metadata": {},
   "source": [
    "## TODO 4\n",
    "\n",
    "> Imprima a matriz de confusão (usando a Scikit-Learn)\n",
    "\n",
    "> Obtenha a Acurácia, Precision, Recall e F1-Score"
   ]
  },
  {
   "cell_type": "code",
   "execution_count": 114,
   "id": "07eebb16",
   "metadata": {},
   "outputs": [
    {
     "data": {
      "text/plain": [
       "array(['malignant', 'benign'], dtype='<U9')"
      ]
     },
     "execution_count": 114,
     "metadata": {},
     "output_type": "execute_result"
    }
   ],
   "source": [
    "data.target_names"
   ]
  },
  {
   "cell_type": "code",
   "execution_count": 115,
   "id": "fifteen-species",
   "metadata": {},
   "outputs": [
    {
     "name": "stdout",
     "output_type": "stream",
     "text": [
      "Confusion matrix, without normalization\n",
      "[[51  2]\n",
      " [ 8 82]]\n",
      "Normalized confusion matrix\n",
      "[[0.96226415 0.03773585]\n",
      " [0.08888889 0.91111111]]\n"
     ]
    },
    {
     "data": {
      "image/png": "[encoded data removed]",
      "text/plain": [
       "<Figure size 640x480 with 2 Axes>"
      ]
     },
     "metadata": {},
     "output_type": "display_data"
    },
    {
     "data": {
      "image/png": "[encoded data removed]",
      "text/plain": [
       "<Figure size 640x480 with 2 Axes>"
      ]
     },
     "metadata": {},
     "output_type": "display_data"
    }
   ],
   "source": [
    "#resposta\n",
    "\n",
    "from sklearn.metrics import ConfusionMatrixDisplay\n",
    "# Plot non-normalized confusion matrix\n",
    "titles_options = [\n",
    "    (\"Confusion matrix, without normalization\", None),\n",
    "    (\"Normalized confusion matrix\", \"true\"),\n",
    "]\n",
    "for title, normalize in titles_options:\n",
    "    disp = ConfusionMatrixDisplay.from_estimator(\n",
    "        clfs[4],\n",
    "        X_test,\n",
    "        y_test,\n",
    "        display_labels=data.target_names,\n",
    "        cmap=plt.cm.Blues,\n",
    "        normalize=normalize,\n",
    "    )\n",
    "    disp.ax_.set_title(title)\n",
    "\n",
    "    print(title)\n",
    "    print(disp.confusion_matrix)\n",
    "\n",
    "plt.show()"
   ]
  },
  {
   "cell_type": "code",
   "execution_count": 116,
   "id": "martial-handbook",
   "metadata": {},
   "outputs": [
    {
     "name": "stdout",
     "output_type": "stream",
     "text": [
      "0.9300699300699301\n",
      "0.9761904761904762\n",
      "0.9111111111111111\n",
      "0.9425287356321839\n"
     ]
    }
   ],
   "source": [
    "#resposta\n",
    "from sklearn.metrics import accuracy_score\n",
    "from sklearn.metrics import precision_score\n",
    "from sklearn.metrics import recall_score\n",
    "from sklearn.metrics import f1_score\n",
    "\n",
    "print(accuracy_score(y_test, clfs[4].predict(X_test)))\n",
    "print(precision_score(y_test, clfs[4].predict(X_test)))\n",
    "print(recall_score(y_test, clfs[4].predict(X_test)))\n",
    "print(f1_score(y_test, clfs[4].predict(X_test)))"
   ]
  }
 ],
 "metadata": {
  "kernelspec": {
   "display_name": "Python 3 (ipykernel)",
   "language": "python",
   "name": "python3"
  },
  "language_info": {
   "codemirror_mode": {
    "name": "ipython",
    "version": 3
   },
   "file_extension": ".py",
   "mimetype": "text/x-python",
   "name": "python",
   "nbconvert_exporter": "python",
   "pygments_lexer": "ipython3",
   "version": "3.8.2"
  }
 },
 "nbformat": 4,
 "nbformat_minor": 5
}
